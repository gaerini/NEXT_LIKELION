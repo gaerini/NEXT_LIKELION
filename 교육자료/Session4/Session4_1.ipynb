{
  "nbformat": 4,
  "nbformat_minor": 0,
  "metadata": {
    "colab": {
      "provenance": []
    },
    "kernelspec": {
      "name": "python3",
      "display_name": "Python 3"
    },
    "language_info": {
      "name": "python"
    }
  },
  "cells": [
    {
      "cell_type": "code",
      "execution_count": 2,
      "metadata": {
        "id": "AnoTC0Cbqb_N"
      },
      "outputs": [],
      "source": [
        "import requests as req"
      ]
    },
    {
      "cell_type": "code",
      "source": [
        "res_get = req.get('https://jsonplaceholder.typicode.com/posts/1')\n",
        "print(res_get.text)"
      ],
      "metadata": {
        "colab": {
          "base_uri": "https://localhost:8080/"
        },
        "id": "nDwbE2svtlIn",
        "outputId": "85a16118-dbf0-409d-dce8-2ca1502afc9a"
      },
      "execution_count": 9,
      "outputs": [
        {
          "output_type": "stream",
          "name": "stdout",
          "text": [
            "{\n",
            "  \"userId\": 1,\n",
            "  \"id\": 1,\n",
            "  \"title\": \"sunt aut facere repellat provident occaecati excepturi optio reprehenderit\",\n",
            "  \"body\": \"quia et suscipit\\nsuscipit recusandae consequuntur expedita et cum\\nreprehenderit molestiae ut ut quas totam\\nnostrum rerum est autem sunt rem eveniet architecto\"\n",
            "}\n"
          ]
        }
      ]
    },
    {
      "cell_type": "markdown",
      "source": [
        "200은 잘 나온 것이다.  \n",
        "404, 500은 유명한 응답 에러이다."
      ],
      "metadata": {
        "id": "O6Gm2v6qugPU"
      }
    },
    {
      "cell_type": "code",
      "source": [
        "container = {'title':\"today\",\n",
        "             'body': \"today is the day\",\n",
        "             'userId': 1,\n",
        "             \"id\": 1}\n",
        "res_post = req.post('https://jsonplaceholder.typicode.com/posts', data=container)\n",
        "res_post.text"
      ],
      "metadata": {
        "colab": {
          "base_uri": "https://localhost:8080/",
          "height": 36
        },
        "id": "ezY6ScEjufwV",
        "outputId": "28eb77cf-84dc-4b1e-8054-6c1fa051265a"
      },
      "execution_count": 12,
      "outputs": [
        {
          "output_type": "execute_result",
          "data": {
            "text/plain": [
              "'{\\n  \"title\": \"today\",\\n  \"body\": \"today is the day\",\\n  \"userId\": \"1\",\\n  \"id\": 101\\n}'"
            ],
            "application/vnd.google.colaboratory.intrinsic+json": {
              "type": "string"
            }
          },
          "metadata": {},
          "execution_count": 12
        }
      ]
    },
    {
      "cell_type": "markdown",
      "source": [
        "실제로 우리가 쓰는 서버는 우리가 보내는 데이터를 거절한다. 서버에서 요청하는 데이터가 아니기 때문이다."
      ],
      "metadata": {
        "id": "EHMQGHFEwOnV"
      }
    },
    {
      "cell_type": "code",
      "source": [
        "container = {\"title\": 'jiho',\n",
        "             \"body\": 'jiho_body',\n",
        "             \"userId\": 1,\n",
        "             \"id\": 1}\n",
        "\n",
        "res_patch = req.patch('https://jsonplaceholder.typicode.com/posts/1', data=container)\n",
        "res_patch.text"
      ],
      "metadata": {
        "colab": {
          "base_uri": "https://localhost:8080/",
          "height": 36
        },
        "id": "eXWZ5kjuubNq",
        "outputId": "5b2700bf-8f9f-4181-d729-8ed3dff85460"
      },
      "execution_count": 13,
      "outputs": [
        {
          "output_type": "execute_result",
          "data": {
            "text/plain": [
              "'{\\n  \"userId\": \"1\",\\n  \"id\": \"1\",\\n  \"title\": \"jiho\",\\n  \"body\": \"jiho_body\"\\n}'"
            ],
            "application/vnd.google.colaboratory.intrinsic+json": {
              "type": "string"
            }
          },
          "metadata": {},
          "execution_count": 13
        }
      ]
    },
    {
      "cell_type": "markdown",
      "source": [
        "pathch는 PUT과 같다."
      ],
      "metadata": {
        "id": "vgKYLGWbydCX"
      }
    },
    {
      "cell_type": "code",
      "source": [
        "res_delete = req.delete('https://jsonplaceholder.typicode.com/posts/1')\n",
        "res_delete"
      ],
      "metadata": {
        "colab": {
          "base_uri": "https://localhost:8080/"
        },
        "id": "LR7lX37QyTgY",
        "outputId": "0b5f8713-6bb5-4409-bc56-c4a1b055702c"
      },
      "execution_count": 15,
      "outputs": [
        {
          "output_type": "execute_result",
          "data": {
            "text/plain": [
              "<Response [200]>"
            ]
          },
          "metadata": {},
          "execution_count": 15
        }
      ]
    },
    {
      "cell_type": "code",
      "source": [],
      "metadata": {
        "id": "Jrho30YgyrzB"
      },
      "execution_count": null,
      "outputs": []
    }
  ]
}