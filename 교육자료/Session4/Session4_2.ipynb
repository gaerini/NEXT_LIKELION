{
  "nbformat": 4,
  "nbformat_minor": 0,
  "metadata": {
    "colab": {
      "provenance": []
    },
    "kernelspec": {
      "name": "python3",
      "display_name": "Python 3"
    },
    "language_info": {
      "name": "python"
    }
  },
  "cells": [
    {
      "cell_type": "code",
      "execution_count": 2,
      "metadata": {
        "id": "qmKJTFNez_We"
      },
      "outputs": [],
      "source": [
        "import requests as req"
      ]
    },
    {
      "cell_type": "code",
      "source": [
        "container = {\n",
        "    'serviceKey': 'YMHLZDW3QbPhK5DX7IMqED8zFwVaaqF9OFJJFkpHGyoe9xc5hjU0VD+R3W7XTFyUUdcTZALcVmR+7X19z16cng==',\n",
        "    'numOfRows': 10,\n",
        "    'pageNo':1,\n",
        "    'base_date': '20230320',\n",
        "    'base_time': '0500',\n",
        "    'nx': '55',\n",
        "    'ny': '127',\n",
        "    'dataType': 'JSON'\n",
        "}\n",
        "res_get = req.get(\"http://apis.data.go.kr/1360000/VilageFcstInfoService_2.0/getVilageFcst\", params=container)\n",
        "res_get.text"
      ],
      "metadata": {
        "colab": {
          "base_uri": "https://localhost:8080/",
          "height": 197
        },
        "id": "dUzhIvyM0DUk",
        "outputId": "4066db75-abc2-42c5-cfbd-adcf4350a4f0"
      },
      "execution_count": 7,
      "outputs": [
        {
          "output_type": "execute_result",
          "data": {
            "text/plain": [
              "'{\"response\":{\"header\":{\"resultCode\":\"00\",\"resultMsg\":\"NORMAL_SERVICE\"},\"body\":{\"dataType\":\"JSON\",\"items\":{\"item\":[{\"baseDate\":\"20230320\",\"baseTime\":\"0500\",\"category\":\"TMP\",\"fcstDate\":\"20230320\",\"fcstTime\":\"0600\",\"fcstValue\":\"1\",\"nx\":55,\"ny\":127},{\"baseDate\":\"20230320\",\"baseTime\":\"0500\",\"category\":\"UUU\",\"fcstDate\":\"20230320\",\"fcstTime\":\"0600\",\"fcstValue\":\"-0.7\",\"nx\":55,\"ny\":127},{\"baseDate\":\"20230320\",\"baseTime\":\"0500\",\"category\":\"VVV\",\"fcstDate\":\"20230320\",\"fcstTime\":\"0600\",\"fcstValue\":\"0.6\",\"nx\":55,\"ny\":127},{\"baseDate\":\"20230320\",\"baseTime\":\"0500\",\"category\":\"VEC\",\"fcstDate\":\"20230320\",\"fcstTime\":\"0600\",\"fcstValue\":\"127\",\"nx\":55,\"ny\":127},{\"baseDate\":\"20230320\",\"baseTime\":\"0500\",\"category\":\"WSD\",\"fcstDate\":\"20230320\",\"fcstTime\":\"0600\",\"fcstValue\":\"1\",\"nx\":55,\"ny\":127},{\"baseDate\":\"20230320\",\"baseTime\":\"0500\",\"category\":\"SKY\",\"fcstDate\":\"20230320\",\"fcstTime\":\"0600\",\"fcstValue\":\"4\",\"nx\":55,\"ny\":127},{\"baseDate\":\"20230320\",\"baseTime\":\"0500\",\"category\":\"PTY\",\"fcstDate\":\"20230320\",\"fcstTime\":\"0600\",\"fcstValue\":\"0\",\"nx\":55,\"ny\":127},{\"baseDate\":\"20230320\",\"baseTime\":\"0500\",\"category\":\"POP\",\"fcstDate\":\"20230320\",\"fcstTime\":\"0600\",\"fcstValue\":\"30\",\"nx\":55,\"ny\":127},{\"baseDate\":\"20230320\",\"baseTime\":\"0500\",\"category\":\"WAV\",\"fcstDate\":\"20230320\",\"fcstTime\":\"0600\",\"fcstValue\":\"0\",\"nx\":55,\"ny\":127},{\"baseDate\":\"20230320\",\"baseTime\":\"0500\",\"category\":\"PCP\",\"fcstDate\":\"20230320\",\"fcstTime\":\"0600\",\"fcstValue\":\"강수없음\",\"nx\":55,\"ny\":127}]},\"pageNo\":1,\"numOfRows\":10,\"totalCount\":809}}}'"
            ],
            "application/vnd.google.colaboratory.intrinsic+json": {
              "type": "string"
            }
          },
          "metadata": {},
          "execution_count": 7
        }
      ]
    },
    {
      "cell_type": "code",
      "source": [],
      "metadata": {
        "id": "SFn-SQVx03S6"
      },
      "execution_count": null,
      "outputs": []
    }
  ]
}